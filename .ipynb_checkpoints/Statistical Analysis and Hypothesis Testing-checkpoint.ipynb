{
 "cells": [
  {
   "cell_type": "markdown",
   "metadata": {
    "id": "kv-TcsXdiSZp"
   },
   "source": [
    "# Project 7: Statistical Analysis and Hypothesis Testing"
   ]
  },
  {
   "cell_type": "markdown",
   "metadata": {},
   "source": [
    "## Project Goal"
   ]
  },
  {
   "cell_type": "markdown",
   "metadata": {
    "id": "gi9x4HR1iSZp"
   },
   "source": [
    "    Cookie Cats is a hugely popular mobile puzzle game developed by Tactile Entertainment. It's a classic \"connect three\"-style puzzle game where the player must connect tiles of the same color to clear the board and win the level.\n",
    "     As players progress through the levels of the game, they will occasionally encounter gates that force them to wait a non-trivial amount of time or make an in-app purchase to progress. In addition to driving in-app purchases, these gates serve the important purpose of giving players an enforced break from playing the game, hopefully resulting in that the player's enjoyment of the game being increased and prolonged.\n",
    "     But where should the gates be placed? Initially the first gate was placed at level 30, but in this notebook we're going to analyze an AB-test where we moved the first gate in Cookie Cats from level 30 to level 40. In particular, we will look at the impact on player retention. But before we get to that, a key step before undertaking any analysis is understanding the data.\n",
    "\n"
   ]
  },
  {
   "cell_type": "markdown",
   "metadata": {
    "id": "NdQrrUh3iSZq"
   },
   "source": [
    "## Dataset and Variables"
   ]
  },
  {
   "cell_type": "markdown",
   "metadata": {},
   "source": [
    "The data we have is from 90,189 players that installed the game while the AB-test was running.\n",
    "\n",
    "The variables are:\n",
    "\n",
    "- userid - a unique number that identifies each player.\n",
    "\n",
    "- version - whether the player was put in the control group (gate_30 - a gate at level 30) or the group with the moved gate (gate_40 - a gate at level 40).\n",
    "\n",
    "- sum_gamerounds - the number of game rounds played by the player during the first 14 days after install.\n",
    "\n",
    "- retention_1 - did the player come back and play 1 day after installing?\n",
    "\n",
    "- retention_7 - did the player come back and play 7 days after installing?\n",
    "\n",
    "***\n",
    "\n",
    "When a player installed the game, he or she was randomly assigned to either gate_30 or gate_40.\n",
    "\n"
   ]
  },
  {
   "cell_type": "markdown",
   "metadata": {},
   "source": [
    "## Packages and setup"
   ]
  },
  {
   "cell_type": "code",
   "execution_count": 1,
   "metadata": {},
   "outputs": [],
   "source": [
    "import numpy as np\n",
    "import pandas as pd \n",
    "import seaborn as sns\n",
    "import matplotlib.pyplot as plt\n",
    "import os\n",
    "\n",
    "from scipy.stats import shapiro\n",
    "import scipy.stats as stats\n",
    "\n",
    "#parameter settings\n",
    "from IPython.core.interactiveshell import InteractiveShell\n",
    "InteractiveShell.ast_node_interactivity = \"all\"\n",
    "import warnings\n",
    "warnings.filterwarnings(\"ignore\")\n",
    "warnings.simplefilter(action='ignore', category=FutureWarning)"
   ]
  },
  {
   "cell_type": "markdown",
   "metadata": {
    "id": "qqf_XDwZiSZq"
   },
   "source": [
    "### Reading data and initial processing"
   ]
  },
  {
   "cell_type": "code",
   "execution_count": 2,
   "metadata": {
    "id": "OE839ZtOiSZr"
   },
   "outputs": [
    {
     "name": "stdout",
     "output_type": "stream",
     "text": [
      "Data types for the data set:\n"
     ]
    },
    {
     "data": {
      "text/plain": [
       "userid             int64\n",
       "version           object\n",
       "sum_gamerounds     int64\n",
       "retention_1         bool\n",
       "retention_7         bool\n",
       "dtype: object"
      ]
     },
     "execution_count": 2,
     "metadata": {},
     "output_type": "execute_result"
    },
    {
     "name": "stdout",
     "output_type": "stream",
     "text": [
      "Shape of the data i.e. no. of rows and columns\n"
     ]
    },
    {
     "data": {
      "text/plain": [
       "(90189, 5)"
      ]
     },
     "execution_count": 2,
     "metadata": {},
     "output_type": "execute_result"
    },
    {
     "name": "stdout",
     "output_type": "stream",
     "text": [
      "First 5 rows of the raw data:\n"
     ]
    },
    {
     "data": {
      "text/html": [
       "<div>\n",
       "<style scoped>\n",
       "    .dataframe tbody tr th:only-of-type {\n",
       "        vertical-align: middle;\n",
       "    }\n",
       "\n",
       "    .dataframe tbody tr th {\n",
       "        vertical-align: top;\n",
       "    }\n",
       "\n",
       "    .dataframe thead th {\n",
       "        text-align: right;\n",
       "    }\n",
       "</style>\n",
       "<table border=\"1\" class=\"dataframe\">\n",
       "  <thead>\n",
       "    <tr style=\"text-align: right;\">\n",
       "      <th></th>\n",
       "      <th>userid</th>\n",
       "      <th>version</th>\n",
       "      <th>sum_gamerounds</th>\n",
       "      <th>retention_1</th>\n",
       "      <th>retention_7</th>\n",
       "    </tr>\n",
       "  </thead>\n",
       "  <tbody>\n",
       "    <tr>\n",
       "      <th>0</th>\n",
       "      <td>116</td>\n",
       "      <td>gate_30</td>\n",
       "      <td>3</td>\n",
       "      <td>False</td>\n",
       "      <td>False</td>\n",
       "    </tr>\n",
       "    <tr>\n",
       "      <th>1</th>\n",
       "      <td>337</td>\n",
       "      <td>gate_30</td>\n",
       "      <td>38</td>\n",
       "      <td>True</td>\n",
       "      <td>False</td>\n",
       "    </tr>\n",
       "    <tr>\n",
       "      <th>2</th>\n",
       "      <td>377</td>\n",
       "      <td>gate_40</td>\n",
       "      <td>165</td>\n",
       "      <td>True</td>\n",
       "      <td>False</td>\n",
       "    </tr>\n",
       "    <tr>\n",
       "      <th>3</th>\n",
       "      <td>483</td>\n",
       "      <td>gate_40</td>\n",
       "      <td>1</td>\n",
       "      <td>False</td>\n",
       "      <td>False</td>\n",
       "    </tr>\n",
       "    <tr>\n",
       "      <th>4</th>\n",
       "      <td>488</td>\n",
       "      <td>gate_40</td>\n",
       "      <td>179</td>\n",
       "      <td>True</td>\n",
       "      <td>True</td>\n",
       "    </tr>\n",
       "  </tbody>\n",
       "</table>\n",
       "</div>"
      ],
      "text/plain": [
       "   userid  version  sum_gamerounds  retention_1  retention_7\n",
       "0     116  gate_30               3        False        False\n",
       "1     337  gate_30              38         True        False\n",
       "2     377  gate_40             165         True        False\n",
       "3     483  gate_40               1        False        False\n",
       "4     488  gate_40             179         True         True"
      ]
     },
     "execution_count": 2,
     "metadata": {},
     "output_type": "execute_result"
    }
   ],
   "source": [
    "#Read data using pandas\n",
    "user_df=pd.read_csv(\"E:/aine/Project7/cookie_cats.csv\")\n",
    "\n",
    "#Check data types of each column using \"dtypes\" function\n",
    "print(\"Data types for the data set:\")\n",
    "user_df.dtypes\n",
    "\n",
    "#Check dimension of data i.e. # of rows and #column using pandas \"shape\" funtion\n",
    "print(\"Shape of the data i.e. no. of rows and columns\")\n",
    "user_df.shape\n",
    "\n",
    "#display first 5 rows of the data using \"head\" function\n",
    "print(\"First 5 rows of the raw data:\")\n",
    "user_df.head(5)"
   ]
  },
  {
   "cell_type": "code",
   "execution_count": 3,
   "metadata": {},
   "outputs": [
    {
     "data": {
      "text/html": [
       "<div>\n",
       "<style scoped>\n",
       "    .dataframe tbody tr th:only-of-type {\n",
       "        vertical-align: middle;\n",
       "    }\n",
       "\n",
       "    .dataframe tbody tr th {\n",
       "        vertical-align: top;\n",
       "    }\n",
       "\n",
       "    .dataframe thead th {\n",
       "        text-align: right;\n",
       "    }\n",
       "</style>\n",
       "<table border=\"1\" class=\"dataframe\">\n",
       "  <thead>\n",
       "    <tr style=\"text-align: right;\">\n",
       "      <th></th>\n",
       "      <th>userid</th>\n",
       "    </tr>\n",
       "    <tr>\n",
       "      <th>version</th>\n",
       "      <th></th>\n",
       "    </tr>\n",
       "  </thead>\n",
       "  <tbody>\n",
       "    <tr>\n",
       "      <th>gate_30</th>\n",
       "      <td>44700</td>\n",
       "    </tr>\n",
       "    <tr>\n",
       "      <th>gate_40</th>\n",
       "      <td>45489</td>\n",
       "    </tr>\n",
       "  </tbody>\n",
       "</table>\n",
       "</div>"
      ],
      "text/plain": [
       "         userid\n",
       "version        \n",
       "gate_30   44700\n",
       "gate_40   45489"
      ]
     },
     "execution_count": 3,
     "metadata": {},
     "output_type": "execute_result"
    }
   ],
   "source": [
    "# Counting the number of players in each A/B group.\n",
    "user_df.groupby(\"version\")[[\"userid\"]].nunique()"
   ]
  },
  {
   "cell_type": "code",
   "execution_count": 4,
   "metadata": {},
   "outputs": [
    {
     "data": {
      "text/html": [
       "<div>\n",
       "<style scoped>\n",
       "    .dataframe tbody tr th:only-of-type {\n",
       "        vertical-align: middle;\n",
       "    }\n",
       "\n",
       "    .dataframe tbody tr th {\n",
       "        vertical-align: top;\n",
       "    }\n",
       "\n",
       "    .dataframe thead th {\n",
       "        text-align: right;\n",
       "    }\n",
       "</style>\n",
       "<table border=\"1\" class=\"dataframe\">\n",
       "  <thead>\n",
       "    <tr style=\"text-align: right;\">\n",
       "      <th></th>\n",
       "      <th>userid</th>\n",
       "      <th>retention_1</th>\n",
       "      <th>retention_7</th>\n",
       "      <th>sum_gamerounds</th>\n",
       "    </tr>\n",
       "    <tr>\n",
       "      <th>version</th>\n",
       "      <th></th>\n",
       "      <th></th>\n",
       "      <th></th>\n",
       "      <th></th>\n",
       "    </tr>\n",
       "  </thead>\n",
       "  <tbody>\n",
       "    <tr>\n",
       "      <th>gate_30</th>\n",
       "      <td>44700</td>\n",
       "      <td>0.448188</td>\n",
       "      <td>0.190201</td>\n",
       "      <td>2344795</td>\n",
       "    </tr>\n",
       "    <tr>\n",
       "      <th>gate_40</th>\n",
       "      <td>45489</td>\n",
       "      <td>0.442283</td>\n",
       "      <td>0.182000</td>\n",
       "      <td>2333530</td>\n",
       "    </tr>\n",
       "  </tbody>\n",
       "</table>\n",
       "</div>"
      ],
      "text/plain": [
       "         userid  retention_1  retention_7  sum_gamerounds\n",
       "version                                                  \n",
       "gate_30   44700     0.448188     0.190201         2344795\n",
       "gate_40   45489     0.442283     0.182000         2333530"
      ]
     },
     "execution_count": 4,
     "metadata": {},
     "output_type": "execute_result"
    }
   ],
   "source": [
    "# Calculating 1-day and 7-days retention for each A/B group\n",
    "df_retention_ab = user_df.groupby(\"version\").agg({\"userid\":\"count\", \"retention_1\":\"mean\",\"retention_7\":\"mean\", \"sum_gamerounds\":\"sum\"})\n",
    "df_retention_ab"
   ]
  },
  {
   "cell_type": "markdown",
   "metadata": {
    "id": "hMuveQlXiSZr"
   },
   "source": [
    "## Exercise"
   ]
  },
  {
   "cell_type": "markdown",
   "metadata": {
    "id": "iN8-hwHDiSZs"
   },
   "source": [
    "## Q1. Detect and resolve problems in the data (Missing value, Outliers, etc.)"
   ]
  },
  {
   "cell_type": "markdown",
   "metadata": {
    "id": "h_ZnLazliSZs"
   },
   "source": [
    "### Q1.1 Identify missing value"
   ]
  },
  {
   "cell_type": "code",
   "execution_count": 5,
   "metadata": {
    "id": "g0YE1IjfiSZs"
   },
   "outputs": [
    {
     "data": {
      "text/plain": [
       "userid            0\n",
       "version           0\n",
       "sum_gamerounds    0\n",
       "retention_1       0\n",
       "retention_7       0\n",
       "dtype: int64"
      ]
     },
     "execution_count": 5,
     "metadata": {},
     "output_type": "execute_result"
    }
   ],
   "source": [
    "#Check for any missing values in the data using isnull() function\n",
    "\n",
    "user_df.isnull().sum()"
   ]
  },
  {
   "cell_type": "markdown",
   "metadata": {
    "id": "tMU_kjsiiSZs"
   },
   "source": [
    "### Q1.2 Identify outliers"
   ]
  },
  {
   "cell_type": "code",
   "execution_count": 6,
   "metadata": {
    "id": "IMwNE8XBiSZt"
   },
   "outputs": [
    {
     "data": {
      "text/plain": [
       "Text(0.5, 1.0, 'Total gamerounds played')"
      ]
     },
     "execution_count": 6,
     "metadata": {},
     "output_type": "execute_result"
    },
    {
     "data": {
      "text/plain": [
       "Text(0.5, 0, 'Index')"
      ]
     },
     "execution_count": 6,
     "metadata": {},
     "output_type": "execute_result"
    },
    {
     "data": {
      "text/plain": [
       "Text(0, 0.5, 'sum_gamerounds')"
      ]
     },
     "execution_count": 6,
     "metadata": {},
     "output_type": "execute_result"
    },
    {
     "data": {
      "text/plain": [
       "[<matplotlib.lines.Line2D at 0x1b599da3520>]"
      ]
     },
     "execution_count": 6,
     "metadata": {},
     "output_type": "execute_result"
    },
    {
     "data": {
      "image/png": "[encoded data removed]",
      "text/plain": [
       "<Figure size 432x288 with 1 Axes>"
      ]
     },
     "metadata": {
      "needs_background": "light"
     },
     "output_type": "display_data"
    }
   ],
   "source": [
    "#Check for outlier values in sum_gamerounds column\n",
    "plt.title(\"Total gamerounds played\")\n",
    "plt.xlabel(\"Index\")\n",
    "plt.ylabel(\"sum_gamerounds\")\n",
    "plt.plot(user_df.sum_gamerounds)"
   ]
  },
  {
   "cell_type": "code",
   "execution_count": 7,
   "metadata": {},
   "outputs": [
    {
     "data": {
      "text/plain": [
       "<matplotlib.axes._subplots.AxesSubplot at 0x1b59a2d0220>"
      ]
     },
     "execution_count": 7,
     "metadata": {},
     "output_type": "execute_result"
    },
    {
     "data": {
      "image/png": "[encoded data removed]",
      "text/plain": [
       "<Figure size 432x288 with 1 Axes>"
      ]
     },
     "metadata": {
      "needs_background": "light"
     },
     "output_type": "display_data"
    }
   ],
   "source": [
    "user_df['sum_gamerounds'].hist(bins=100)"
   ]
  },
  {
   "cell_type": "code",
   "execution_count": 8,
   "metadata": {},
   "outputs": [
    {
     "data": {
      "text/html": [
       "<div>\n",
       "<style scoped>\n",
       "    .dataframe tbody tr th:only-of-type {\n",
       "        vertical-align: middle;\n",
       "    }\n",
       "\n",
       "    .dataframe tbody tr th {\n",
       "        vertical-align: top;\n",
       "    }\n",
       "\n",
       "    .dataframe thead th {\n",
       "        text-align: right;\n",
       "    }\n",
       "</style>\n",
       "<table border=\"1\" class=\"dataframe\">\n",
       "  <thead>\n",
       "    <tr style=\"text-align: right;\">\n",
       "      <th></th>\n",
       "      <th>userid</th>\n",
       "      <th>sum_gamerounds</th>\n",
       "    </tr>\n",
       "  </thead>\n",
       "  <tbody>\n",
       "    <tr>\n",
       "      <th>count</th>\n",
       "      <td>9.018900e+04</td>\n",
       "      <td>90189.000000</td>\n",
       "    </tr>\n",
       "    <tr>\n",
       "      <th>mean</th>\n",
       "      <td>4.998412e+06</td>\n",
       "      <td>51.872457</td>\n",
       "    </tr>\n",
       "    <tr>\n",
       "      <th>std</th>\n",
       "      <td>2.883286e+06</td>\n",
       "      <td>195.050858</td>\n",
       "    </tr>\n",
       "    <tr>\n",
       "      <th>min</th>\n",
       "      <td>1.160000e+02</td>\n",
       "      <td>0.000000</td>\n",
       "    </tr>\n",
       "    <tr>\n",
       "      <th>25%</th>\n",
       "      <td>2.512230e+06</td>\n",
       "      <td>5.000000</td>\n",
       "    </tr>\n",
       "    <tr>\n",
       "      <th>50%</th>\n",
       "      <td>4.995815e+06</td>\n",
       "      <td>16.000000</td>\n",
       "    </tr>\n",
       "    <tr>\n",
       "      <th>75%</th>\n",
       "      <td>7.496452e+06</td>\n",
       "      <td>51.000000</td>\n",
       "    </tr>\n",
       "    <tr>\n",
       "      <th>max</th>\n",
       "      <td>9.999861e+06</td>\n",
       "      <td>49854.000000</td>\n",
       "    </tr>\n",
       "  </tbody>\n",
       "</table>\n",
       "</div>"
      ],
      "text/plain": [
       "             userid  sum_gamerounds\n",
       "count  9.018900e+04    90189.000000\n",
       "mean   4.998412e+06       51.872457\n",
       "std    2.883286e+06      195.050858\n",
       "min    1.160000e+02        0.000000\n",
       "25%    2.512230e+06        5.000000\n",
       "50%    4.995815e+06       16.000000\n",
       "75%    7.496452e+06       51.000000\n",
       "max    9.999861e+06    49854.000000"
      ]
     },
     "execution_count": 8,
     "metadata": {},
     "output_type": "execute_result"
    }
   ],
   "source": [
    "user_df.describe()"
   ]
  },
  {
   "cell_type": "code",
   "execution_count": 9,
   "metadata": {},
   "outputs": [
    {
     "data": {
      "text/plain": [
       "<matplotlib.axes._subplots.AxesSubplot at 0x1b59a5dce20>"
      ]
     },
     "execution_count": 9,
     "metadata": {},
     "output_type": "execute_result"
    },
    {
     "data": {
      "image/png": "[encoded data removed]",
      "text/plain": [
       "<Figure size 432x288 with 1 Axes>"
      ]
     },
     "metadata": {
      "needs_background": "light"
     },
     "output_type": "display_data"
    }
   ],
   "source": [
    "user_df['sum_gamerounds'].plot.box()"
   ]
  },
  {
   "cell_type": "code",
   "execution_count": 10,
   "metadata": {
    "id": "XOdf6IaOiSZt"
   },
   "outputs": [
    {
     "name": "stdout",
     "output_type": "stream",
     "text": [
      "max value of sum_gamearounds= 49854\n"
     ]
    }
   ],
   "source": [
    "#Based on the plot, filter out the outlier from sum_gamerounds played; Use max() fucntion to find the index of the outlier\n",
    "maxvalue=max(user_df['sum_gamerounds'])\n",
    "print(f\"max value of sum_gamearounds= {maxvalue}\")\n",
    "\n",
    "user_df.drop(user_df.loc[user_df['sum_gamerounds']==maxvalue].index,inplace=True)"
   ]
  },
  {
   "cell_type": "code",
   "execution_count": 11,
   "metadata": {
    "id": "7_9eQe7riSZt",
    "scrolled": true
   },
   "outputs": [
    {
     "data": {
      "text/plain": [
       "Text(0.5, 1.0, 'Total gamerounds played')"
      ]
     },
     "execution_count": 11,
     "metadata": {},
     "output_type": "execute_result"
    },
    {
     "data": {
      "text/plain": [
       "Text(0.5, 0, 'Index')"
      ]
     },
     "execution_count": 11,
     "metadata": {},
     "output_type": "execute_result"
    },
    {
     "data": {
      "text/plain": [
       "Text(0, 0.5, 'sum_gamerounds')"
      ]
     },
     "execution_count": 11,
     "metadata": {},
     "output_type": "execute_result"
    },
    {
     "data": {
      "text/plain": [
       "[<matplotlib.lines.Line2D at 0x1b59a6778e0>]"
      ]
     },
     "execution_count": 11,
     "metadata": {},
     "output_type": "execute_result"
    },
    {
     "data": {
      "image/png": "[encoded data removed]",
      "text/plain": [
       "<Figure size 432x288 with 1 Axes>"
      ]
     },
     "metadata": {
      "needs_background": "light"
     },
     "output_type": "display_data"
    }
   ],
   "source": [
    "#Plot the graph for sum_gamerounds player after removing the outlier\n",
    "#Check for outlier values in sum_gamerounds column\n",
    "plt.title(\"Total gamerounds played\")\n",
    "plt.xlabel(\"Index\")\n",
    "plt.ylabel(\"sum_gamerounds\")\n",
    "plt.plot(user_df.sum_gamerounds)\n"
   ]
  },
  {
   "cell_type": "markdown",
   "metadata": {
    "id": "MRUPfPr9iSZt"
   },
   "source": [
    "## Q2. Plot summary statistics and identify trends to answer basis business questions"
   ]
  },
  {
   "cell_type": "markdown",
   "metadata": {
    "id": "4-Ah9dqQiSZt"
   },
   "source": [
    "### Q2.1 What is the overall 7-day retention rate of the game?"
   ]
  },
  {
   "cell_type": "code",
   "execution_count": 12,
   "metadata": {
    "id": "hHykqZ3YiSZu"
   },
   "outputs": [
    {
     "name": "stdout",
     "output_type": "stream",
     "text": [
      "Overal 7 days retention rate of the game for both versions is:  18.61 %\n"
     ]
    }
   ],
   "source": [
    "#Insert calculation for 7-day retention rate\n",
    "\n",
    "retention_rate_7=round(user_df.retention_7.sum()/user_df.shape[0]*100,2)\n",
    "print(\"Overal 7 days retention rate of the game for both versions is: \" ,retention_rate_7,\"%\")\n"
   ]
  },
  {
   "cell_type": "markdown",
   "metadata": {
    "id": "5okbyesoiSZu"
   },
   "source": [
    "### Q2.2 How many players never played the game after installing? "
   ]
  },
  {
   "cell_type": "code",
   "execution_count": 13,
   "metadata": {
    "id": "goO-ALhkiSZu"
   },
   "outputs": [
    {
     "data": {
      "text/plain": [
       "3994"
      ]
     },
     "execution_count": 13,
     "metadata": {},
     "output_type": "execute_result"
    }
   ],
   "source": [
    "# Find number of customers with sum_gamerounds is equal to zero\n",
    "user_df[user_df.sum_gamerounds==0].shape[0]\n"
   ]
  },
  {
   "cell_type": "markdown",
   "metadata": {
    "id": "EVEICqddiSZu"
   },
   "source": [
    "### Q2.3 Does the number of users decrease as the level progresses highlighting the difficulty of the game?"
   ]
  },
  {
   "cell_type": "code",
   "execution_count": 14,
   "metadata": {
    "id": "zxwwafgFiSZu"
   },
   "outputs": [
    {
     "data": {
      "text/plain": [
       "Text(0.5, 0, 'sum_gamerounds')"
      ]
     },
     "execution_count": 14,
     "metadata": {},
     "output_type": "execute_result"
    },
    {
     "data": {
      "text/plain": [
       "Text(0, 0.5, 'count of players')"
      ]
     },
     "execution_count": 14,
     "metadata": {},
     "output_type": "execute_result"
    },
    {
     "data": {
      "text/plain": [
       "Text(0.5, 1.0, ' count of players vs sum_gamerounds')"
      ]
     },
     "execution_count": 14,
     "metadata": {},
     "output_type": "execute_result"
    },
    {
     "data": {
      "text/plain": [
       "[<matplotlib.lines.Line2D at 0x1b59ab1de50>]"
      ]
     },
     "execution_count": 14,
     "metadata": {},
     "output_type": "execute_result"
    },
    {
     "data": {
      "image/png": "[encoded data removed]",
      "text/plain": [
       "<Figure size 432x288 with 1 Axes>"
      ]
     },
     "metadata": {
      "needs_background": "light"
     },
     "output_type": "display_data"
    }
   ],
   "source": [
    "#Group by sum_gamerounds and count the number of users for the first 200 gamerounds\n",
    "#Use plot() function on the summarized stats to visualize the chart\n",
    "new_data=user_df[['userid','sum_gamerounds']].groupby('sum_gamerounds').count().reset_index().rename(columns={\"userid\":\"count\"})[0:200]\n",
    "plt.xlabel(\"sum_gamerounds\")\n",
    "plt.ylabel(\"count of players\")\n",
    "plt.title(\" count of players vs sum_gamerounds\")\n",
    "plt.plot(new_data['sum_gamerounds'],new_data['count'])"
   ]
  },
  {
   "cell_type": "raw",
   "metadata": {
    "id": "DcyQYU-tiSZu"
   },
   "source": [
    "## Q3. Generate crosstab for two groups of players to understand if there is a difference in 7 days retention rate & total number of game rounds played"
   ]
  },
  {
   "cell_type": "markdown",
   "metadata": {
    "id": "2w7GpBd8iSZu"
   },
   "source": [
    "### Q3.1 Seven days retention rate summary for different game versions"
   ]
  },
  {
   "cell_type": "code",
   "execution_count": 15,
   "metadata": {},
   "outputs": [
    {
     "data": {
      "text/html": [
       "<div>\n",
       "<style scoped>\n",
       "    .dataframe tbody tr th:only-of-type {\n",
       "        vertical-align: middle;\n",
       "    }\n",
       "\n",
       "    .dataframe tbody tr th {\n",
       "        vertical-align: top;\n",
       "    }\n",
       "\n",
       "    .dataframe thead th {\n",
       "        text-align: right;\n",
       "    }\n",
       "</style>\n",
       "<table border=\"1\" class=\"dataframe\">\n",
       "  <thead>\n",
       "    <tr style=\"text-align: right;\">\n",
       "      <th>retention_7</th>\n",
       "      <th>False</th>\n",
       "      <th>True</th>\n",
       "    </tr>\n",
       "    <tr>\n",
       "      <th>version</th>\n",
       "      <th></th>\n",
       "      <th></th>\n",
       "    </tr>\n",
       "  </thead>\n",
       "  <tbody>\n",
       "    <tr>\n",
       "      <th>gate_30</th>\n",
       "      <td>36198</td>\n",
       "      <td>8501</td>\n",
       "    </tr>\n",
       "    <tr>\n",
       "      <th>gate_40</th>\n",
       "      <td>37210</td>\n",
       "      <td>8279</td>\n",
       "    </tr>\n",
       "  </tbody>\n",
       "</table>\n",
       "</div>"
      ],
      "text/plain": [
       "retention_7  False  True \n",
       "version                  \n",
       "gate_30      36198   8501\n",
       "gate_40      37210   8279"
      ]
     },
     "execution_count": 15,
     "metadata": {},
     "output_type": "execute_result"
    }
   ],
   "source": [
    "pd.crosstab(user_df.version, user_df.retention_7)"
   ]
  },
  {
   "cell_type": "code",
   "execution_count": 16,
   "metadata": {
    "id": "-t8DdMxBiSZu",
    "outputId": "7400ae07-5180-4b58-fd59-9360779e8b57"
   },
   "outputs": [
    {
     "data": {
      "text/html": [
       "<div>\n",
       "<style scoped>\n",
       "    .dataframe tbody tr th:only-of-type {\n",
       "        vertical-align: middle;\n",
       "    }\n",
       "\n",
       "    .dataframe tbody tr th {\n",
       "        vertical-align: top;\n",
       "    }\n",
       "\n",
       "    .dataframe thead th {\n",
       "        text-align: right;\n",
       "    }\n",
       "</style>\n",
       "<table border=\"1\" class=\"dataframe\">\n",
       "  <thead>\n",
       "    <tr style=\"text-align: right;\">\n",
       "      <th>retention_7</th>\n",
       "      <th>False</th>\n",
       "      <th>True</th>\n",
       "    </tr>\n",
       "    <tr>\n",
       "      <th>version</th>\n",
       "      <th></th>\n",
       "      <th></th>\n",
       "    </tr>\n",
       "  </thead>\n",
       "  <tbody>\n",
       "    <tr>\n",
       "      <th>gate_30</th>\n",
       "      <td>80.9817%</td>\n",
       "      <td>19.0183%</td>\n",
       "    </tr>\n",
       "    <tr>\n",
       "      <th>gate_40</th>\n",
       "      <td>81.8%</td>\n",
       "      <td>18.2%</td>\n",
       "    </tr>\n",
       "  </tbody>\n",
       "</table>\n",
       "</div>"
      ],
      "text/plain": [
       "retention_7     False     True \n",
       "version                        \n",
       "gate_30      80.9817%  19.0183%\n",
       "gate_40         81.8%     18.2%"
      ]
     },
     "execution_count": 16,
     "metadata": {},
     "output_type": "execute_result"
    }
   ],
   "source": [
    "#Create cross tab for game version and retention_7 flag counting number of users for each possible categories\n",
    "\n",
    "pd.crosstab(user_df.version, user_df.retention_7).apply(lambda r: round((r/r.sum())*100,4).astype(str) + '%', axis=1)"
   ]
  },
  {
   "cell_type": "markdown",
   "metadata": {
    "id": "aL9bwkcpiSZv"
   },
   "source": [
    "<mark>__Analsysis Results:__\n",
    "    \n",
    "Type your interpretation here from the crosstab generated above   \n",
    "   Majority(aroung 80%) of players stopped playing the game after 7 day period,irrespective of version. 50% customer didn't play the game in the first day, after installing the game.\n",
    "    "
   ]
  },
  {
   "cell_type": "markdown",
   "metadata": {
    "id": "62ZIlfh1iSZv"
   },
   "source": [
    "### Q3.2 Gamerounds summary for different game versions"
   ]
  },
  {
   "cell_type": "code",
   "execution_count": 17,
   "metadata": {
    "id": "BCyf0Q5eiSZv"
   },
   "outputs": [
    {
     "data": {
      "text/html": [
       "<div>\n",
       "<style scoped>\n",
       "    .dataframe tbody tr th:only-of-type {\n",
       "        vertical-align: middle;\n",
       "    }\n",
       "\n",
       "    .dataframe tbody tr th {\n",
       "        vertical-align: top;\n",
       "    }\n",
       "\n",
       "    .dataframe thead th {\n",
       "        text-align: right;\n",
       "    }\n",
       "</style>\n",
       "<table border=\"1\" class=\"dataframe\">\n",
       "  <thead>\n",
       "    <tr style=\"text-align: right;\">\n",
       "      <th></th>\n",
       "      <th>sum_gamerounds</th>\n",
       "    </tr>\n",
       "    <tr>\n",
       "      <th>version</th>\n",
       "      <th></th>\n",
       "    </tr>\n",
       "  </thead>\n",
       "  <tbody>\n",
       "    <tr>\n",
       "      <th>gate_30</th>\n",
       "      <td>51.342111</td>\n",
       "    </tr>\n",
       "    <tr>\n",
       "      <th>gate_40</th>\n",
       "      <td>51.298776</td>\n",
       "    </tr>\n",
       "  </tbody>\n",
       "</table>\n",
       "</div>"
      ],
      "text/plain": [
       "         sum_gamerounds\n",
       "version                \n",
       "gate_30       51.342111\n",
       "gate_40       51.298776"
      ]
     },
     "execution_count": 17,
     "metadata": {},
     "output_type": "execute_result"
    }
   ],
   "source": [
    "#use pandas group by to calculate average game rounds played summarized by different versions\n",
    "user_df[['version','sum_gamerounds']].groupby('version').agg('mean')\n",
    "\n"
   ]
  },
  {
   "cell_type": "code",
   "execution_count": 18,
   "metadata": {},
   "outputs": [
    {
     "data": {
      "text/plain": [
       "count    8279.000000\n",
       "mean      165.649837\n",
       "std       183.792499\n",
       "min         0.000000\n",
       "25%        52.000000\n",
       "50%       111.000000\n",
       "75%       211.000000\n",
       "max      2294.000000\n",
       "Name: sum_gamerounds, dtype: float64"
      ]
     },
     "execution_count": 18,
     "metadata": {},
     "output_type": "execute_result"
    }
   ],
   "source": [
    "user_df[(user_df.version=='gate_40') & (user_df.retention_7==True)].sum_gamerounds.describe()"
   ]
  },
  {
   "cell_type": "code",
   "execution_count": 19,
   "metadata": {},
   "outputs": [
    {
     "data": {
      "text/plain": [
       "count    8501.000000\n",
       "mean      160.117516\n",
       "std       179.358560\n",
       "min         0.000000\n",
       "25%        48.000000\n",
       "50%       105.000000\n",
       "75%       208.000000\n",
       "max      2961.000000\n",
       "Name: sum_gamerounds, dtype: float64"
      ]
     },
     "execution_count": 19,
     "metadata": {},
     "output_type": "execute_result"
    }
   ],
   "source": [
    "user_df[(user_df.version=='gate_30') & (user_df.retention_7==True)].sum_gamerounds.describe()"
   ]
  },
  {
   "cell_type": "code",
   "execution_count": 20,
   "metadata": {},
   "outputs": [
    {
     "data": {
      "text/plain": [
       "<matplotlib.axes._subplots.AxesSubplot at 0x1b59abbc220>"
      ]
     },
     "execution_count": 20,
     "metadata": {},
     "output_type": "execute_result"
    },
    {
     "data": {
      "image/png": "[encoded data removed]",
      "text/plain": [
       "<Figure size 432x288 with 1 Axes>"
      ]
     },
     "metadata": {
      "needs_background": "light"
     },
     "output_type": "display_data"
    }
   ],
   "source": [
    "user_df[(user_df.version=='gate_40') & (user_df.retention_7==True)].sum_gamerounds.plot.hist()"
   ]
  },
  {
   "cell_type": "code",
   "execution_count": 21,
   "metadata": {},
   "outputs": [
    {
     "data": {
      "text/plain": [
       "<matplotlib.axes._subplots.AxesSubplot at 0x1b59ac27520>"
      ]
     },
     "execution_count": 21,
     "metadata": {},
     "output_type": "execute_result"
    },
    {
     "data": {
      "image/png": "[encoded data removed]",
      "text/plain": [
       "<Figure size 432x288 with 1 Axes>"
      ]
     },
     "metadata": {
      "needs_background": "light"
     },
     "output_type": "display_data"
    }
   ],
   "source": [
    "user_df[(user_df.version=='gate_30') & (user_df.retention_7==True)].sum_gamerounds.plot.hist()"
   ]
  },
  {
   "cell_type": "markdown",
   "metadata": {
    "id": "DP5BIJZyiSZv"
   },
   "source": [
    "<mark>__Analsysis Results:__\n",
    "    \n",
    "Do total number of gamerounds played in total by each player differ based on  different versions of the game? "
   ]
  },
  {
   "cell_type": "markdown",
   "metadata": {
    "id": "HdEYjtfpiSZv"
   },
   "source": [
    "## Q4. Perform two-sample test for groups A and B to test statistical significance amongst the groups in the sum of game rounds played i.e., if groups A and B are statistically different"
   ]
  },
  {
   "cell_type": "markdown",
   "metadata": {
    "id": "3ydc-t8WiSZw"
   },
   "source": [
    "### Initial data processing"
   ]
  },
  {
   "cell_type": "code",
   "execution_count": 22,
   "metadata": {
    "id": "YtgXXq93iSZw"
   },
   "outputs": [],
   "source": [
    "#Define A/B groups for hypothesis testing\n",
    "user_df[\"version\"] = np.where(user_df.version == \"gate_30\", \"A\", \"B\")\n",
    "group_A=pd.DataFrame(user_df[user_df.version==\"A\"]['sum_gamerounds'])\n",
    "group_B=pd.DataFrame(user_df[user_df.version==\"B\"]['sum_gamerounds'])"
   ]
  },
  {
   "cell_type": "code",
   "execution_count": 23,
   "metadata": {},
   "outputs": [
    {
     "data": {
      "text/html": [
       "<div>\n",
       "<style scoped>\n",
       "    .dataframe tbody tr th:only-of-type {\n",
       "        vertical-align: middle;\n",
       "    }\n",
       "\n",
       "    .dataframe tbody tr th {\n",
       "        vertical-align: top;\n",
       "    }\n",
       "\n",
       "    .dataframe thead th {\n",
       "        text-align: right;\n",
       "    }\n",
       "</style>\n",
       "<table border=\"1\" class=\"dataframe\">\n",
       "  <thead>\n",
       "    <tr style=\"text-align: right;\">\n",
       "      <th></th>\n",
       "      <th>sum_gamerounds</th>\n",
       "    </tr>\n",
       "  </thead>\n",
       "  <tbody>\n",
       "    <tr>\n",
       "      <th>count</th>\n",
       "      <td>44699.000000</td>\n",
       "    </tr>\n",
       "    <tr>\n",
       "      <th>mean</th>\n",
       "      <td>51.342111</td>\n",
       "    </tr>\n",
       "    <tr>\n",
       "      <th>std</th>\n",
       "      <td>102.057598</td>\n",
       "    </tr>\n",
       "    <tr>\n",
       "      <th>min</th>\n",
       "      <td>0.000000</td>\n",
       "    </tr>\n",
       "    <tr>\n",
       "      <th>25%</th>\n",
       "      <td>5.000000</td>\n",
       "    </tr>\n",
       "    <tr>\n",
       "      <th>50%</th>\n",
       "      <td>17.000000</td>\n",
       "    </tr>\n",
       "    <tr>\n",
       "      <th>75%</th>\n",
       "      <td>50.000000</td>\n",
       "    </tr>\n",
       "    <tr>\n",
       "      <th>max</th>\n",
       "      <td>2961.000000</td>\n",
       "    </tr>\n",
       "  </tbody>\n",
       "</table>\n",
       "</div>"
      ],
      "text/plain": [
       "       sum_gamerounds\n",
       "count    44699.000000\n",
       "mean        51.342111\n",
       "std        102.057598\n",
       "min          0.000000\n",
       "25%          5.000000\n",
       "50%         17.000000\n",
       "75%         50.000000\n",
       "max       2961.000000"
      ]
     },
     "execution_count": 23,
     "metadata": {},
     "output_type": "execute_result"
    }
   ],
   "source": [
    "group_A.describe()"
   ]
  },
  {
   "cell_type": "code",
   "execution_count": 24,
   "metadata": {},
   "outputs": [
    {
     "data": {
      "text/html": [
       "<div>\n",
       "<style scoped>\n",
       "    .dataframe tbody tr th:only-of-type {\n",
       "        vertical-align: middle;\n",
       "    }\n",
       "\n",
       "    .dataframe tbody tr th {\n",
       "        vertical-align: top;\n",
       "    }\n",
       "\n",
       "    .dataframe thead th {\n",
       "        text-align: right;\n",
       "    }\n",
       "</style>\n",
       "<table border=\"1\" class=\"dataframe\">\n",
       "  <thead>\n",
       "    <tr style=\"text-align: right;\">\n",
       "      <th></th>\n",
       "      <th>sum_gamerounds</th>\n",
       "    </tr>\n",
       "  </thead>\n",
       "  <tbody>\n",
       "    <tr>\n",
       "      <th>count</th>\n",
       "      <td>45489.000000</td>\n",
       "    </tr>\n",
       "    <tr>\n",
       "      <th>mean</th>\n",
       "      <td>51.298776</td>\n",
       "    </tr>\n",
       "    <tr>\n",
       "      <th>std</th>\n",
       "      <td>103.294416</td>\n",
       "    </tr>\n",
       "    <tr>\n",
       "      <th>min</th>\n",
       "      <td>0.000000</td>\n",
       "    </tr>\n",
       "    <tr>\n",
       "      <th>25%</th>\n",
       "      <td>5.000000</td>\n",
       "    </tr>\n",
       "    <tr>\n",
       "      <th>50%</th>\n",
       "      <td>16.000000</td>\n",
       "    </tr>\n",
       "    <tr>\n",
       "      <th>75%</th>\n",
       "      <td>52.000000</td>\n",
       "    </tr>\n",
       "    <tr>\n",
       "      <th>max</th>\n",
       "      <td>2640.000000</td>\n",
       "    </tr>\n",
       "  </tbody>\n",
       "</table>\n",
       "</div>"
      ],
      "text/plain": [
       "       sum_gamerounds\n",
       "count    45489.000000\n",
       "mean        51.298776\n",
       "std        103.294416\n",
       "min          0.000000\n",
       "25%          5.000000\n",
       "50%         16.000000\n",
       "75%         52.000000\n",
       "max       2640.000000"
      ]
     },
     "execution_count": 24,
     "metadata": {},
     "output_type": "execute_result"
    }
   ],
   "source": [
    "group_B.describe()"
   ]
  },
  {
   "cell_type": "markdown",
   "metadata": {
    "id": "zlyeTKiTiSZw"
   },
   "source": [
    "### Q4.1 Shapiro test of Normality"
   ]
  },
  {
   "cell_type": "code",
   "execution_count": 25,
   "metadata": {
    "id": "tXsSQmHdiSZw"
   },
   "outputs": [
    {
     "data": {
      "text/plain": [
       "ShapiroResult(statistic=0.48864424228668213, pvalue=0.0)"
      ]
     },
     "execution_count": 25,
     "metadata": {},
     "output_type": "execute_result"
    },
    {
     "data": {
      "text/plain": [
       "ShapiroResult(statistic=0.4825654625892639, pvalue=0.0)"
      ]
     },
     "execution_count": 25,
     "metadata": {},
     "output_type": "execute_result"
    }
   ],
   "source": [
    "#---------------------- Shapiro Test ----------------------\n",
    "# NULL Hypothesis H0: Distribution is normal\n",
    "# ALTERNATE Hypothesis H1: Distribution is not normal    \n",
    "\n",
    "#test for group_A\n",
    "\n",
    "shapiro(group_A)\n",
    "#test for group_B\n",
    "shapiro(group_B)"
   ]
  },
  {
   "cell_type": "markdown",
   "metadata": {
    "id": "AOQIRsuAiSZw"
   },
   "source": [
    "<mark>__Analsysis Results:__\n",
    "    \n",
    "__Type your answer here:__ Analyze and interpret the results of shapiro test of normality i.e. are the two groups normally distributed?\n",
    "    \n",
    "    alpha=0.05 and pvalue=0.0; Hence reject null hypothesis. alternate hypothesis is true. Distribution is not normal"
   ]
  },
  {
   "cell_type": "markdown",
   "metadata": {
    "id": "q4o9AOd7iSZx"
   },
   "source": [
    "### Q4.2 Test of homegienity of variance"
   ]
  },
  {
   "cell_type": "code",
   "execution_count": 26,
   "metadata": {
    "id": "mrziVdBNiSZx"
   },
   "outputs": [
    {
     "data": {
      "text/plain": [
       "LeveneResult(statistic=0.07510153837481241, pvalue=0.7840494387892463)"
      ]
     },
     "execution_count": 26,
     "metadata": {},
     "output_type": "execute_result"
    }
   ],
   "source": [
    "#---------------------- Leven's Test ----------------------\n",
    "# NULL Hypothesis H0: Two groups have equal variances\n",
    "# ALTERNATE Hypothesis H1: Two groups do not have equal variances\n",
    "\n",
    "#perform levene's test and accept or reject the null hypothesis based on the results\n",
    "from scipy.stats import levene\n",
    "\n",
    "levene(group_A.sum_gamerounds,group_B.sum_gamerounds)\n"
   ]
  },
  {
   "cell_type": "markdown",
   "metadata": {
    "id": "LwTNd1VPiSZx"
   },
   "source": [
    "<mark>__Analsysis Results:__\n",
    "    \n",
    "__Type your answer here:__ Write your final recommendation from the results of Levene's test\n",
    "    \n",
    "       pvalue=:0.078; alpha=0.05; pvalue>alpha, hence fail to reject null hypothesis. variances are same for both groups"
   ]
  },
  {
   "cell_type": "markdown",
   "metadata": {
    "id": "uWPsJfKPiSZy"
   },
   "source": [
    "### Q4.3 Test of significance: Two sample test"
   ]
  },
  {
   "cell_type": "code",
   "execution_count": 27,
   "metadata": {
    "id": "l7nqj4X5iSZz"
   },
   "outputs": [
    {
     "data": {
      "text/plain": [
       "MannwhitneyuResult(statistic=1009027049.5, pvalue=0.02544577639572688)"
      ]
     },
     "execution_count": 27,
     "metadata": {},
     "output_type": "execute_result"
    }
   ],
   "source": [
    "#---------------------- Two samples test ----------------------\n",
    "# NULL Hypothesis H0: Two samples are equal\n",
    "# ALTERNATE Hypothesis H1: Two samples are different\n",
    "\n",
    "#Apply relevant two sample test to accept or reject the NULL hypothesis\n",
    "\n",
    "from scipy.stats import mannwhitneyu\n",
    "\n",
    "mannwhitneyu(group_A.sum_gamerounds,group_B.sum_gamerounds)\n"
   ]
  },
  {
   "cell_type": "markdown",
   "metadata": {},
   "source": [
    "<mark>__Analsysis Results:__\n",
    "    \n",
    "__Type your answer here:__ Write your final recommendation from the results of two sample hyothesis testing\n",
    "    \n",
    "    pvalue=:0.025; Alpha=0.05; pvalue<alpha , hence reject null hypothesis. Group A and Group B are statistically different"
   ]
  },
  {
   "cell_type": "code",
   "execution_count": 28,
   "metadata": {},
   "outputs": [
    {
     "data": {
      "text/plain": [
       "MannwhitneyuResult(statistic=1024285761.5, pvalue=0.02544577639572688)"
      ]
     },
     "execution_count": 28,
     "metadata": {},
     "output_type": "execute_result"
    }
   ],
   "source": [
    "#---------------------- Two samples test ----------------------\n",
    "# NULL Hypothesis H0: Two samples are equal\n",
    "# ALTERNATE Hypothesis H1: The first sample is greater than the second sample\n",
    "\n",
    "mannwhitneyu(group_A.sum_gamerounds,group_B.sum_gamerounds,alternative=\"greater\")\n"
   ]
  },
  {
   "cell_type": "markdown",
   "metadata": {
    "id": "kE7uFYGSiSZz"
   },
   "source": [
    "<mark>__Analsysis Results:__\n",
    "    \n",
    "__Type your answer here:__ Write your final recommendation from the results of two sample hyothesis testing\n",
    "    \n",
    "    pvalue=:0.025; Alpha=0.05; pvalue<alpha , hence reject null hypothesis. Group A is not greater than group B."
   ]
  },
  {
   "cell_type": "markdown",
   "metadata": {
    "id": "AJRShYQFiSZz"
   },
   "source": [
    "## Q5. Based on significance testing results, if groups A and B are statistically different, which level has more advantage in terms of player retention and number of game rounds played"
   ]
  },
  {
   "cell_type": "code",
   "execution_count": 29,
   "metadata": {
    "id": "1d_q6KSxiSZz"
   },
   "outputs": [],
   "source": [
    "#Analyze the 1 day and 7 days retention rate for two different groups using group by function\n",
    "\n",
    "\n"
   ]
  },
  {
   "cell_type": "markdown",
   "metadata": {
    "id": "eNFy8DxGiSZz"
   },
   "source": [
    "<mark>__Analsysis Results:__\n",
    "    \n",
    "__Type your answer here:__ Write your final recommendation to the company regarding which level works best as the first gate  - Level 30 or Level 40"
   ]
  },
  {
   "cell_type": "markdown",
   "metadata": {
    "id": "GFeU6V0kiSZ0"
   },
   "source": [
    "## Q6. [Bonus Question]  Using bootstrap resampling, plot the retention rate distribution for both the groups inorder to visualize effect of different version of the game on retention."
   ]
  },
  {
   "cell_type": "code",
   "execution_count": 30,
   "metadata": {
    "id": "jGW6O6jOiSZ0"
   },
   "outputs": [],
   "source": [
    "#Hint: Plot density function"
   ]
  }
 ],
 "metadata": {
  "colab": {
   "collapsed_sections": [],
   "name": "Project 7 Starter Code.ipynb",
   "provenance": []
  },
  "kernelspec": {
   "display_name": "Python 3",
   "language": "python",
   "name": "python3"
  },
  "language_info": {
   "codemirror_mode": {
    "name": "ipython",
    "version": 3
   },
   "file_extension": ".py",
   "mimetype": "text/x-python",
   "name": "python",
   "nbconvert_exporter": "python",
   "pygments_lexer": "ipython3",
   "version": "3.8.3"
  }
 },
 "nbformat": 4,
 "nbformat_minor": 1
}
